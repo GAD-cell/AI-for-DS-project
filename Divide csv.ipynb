{
 "cells": [
  {
   "cell_type": "code",
   "execution_count": 1,
   "id": "7def59b8",
   "metadata": {},
   "outputs": [],
   "source": [
    "import pandas as pd\n",
    "from sklearn.model_selection import train_test_split"
   ]
  },
  {
   "cell_type": "code",
   "execution_count": 2,
   "id": "e40dfcce",
   "metadata": {},
   "outputs": [],
   "source": [
    "df = pd.read_csv('combinations.csv')\n",
    "df = df.iloc[1:]\n",
    "df = df.sample(frac=1).reset_index(drop=True)"
   ]
  },
  {
   "cell_type": "code",
   "execution_count": 3,
   "id": "7cc77e29",
   "metadata": {},
   "outputs": [],
   "source": [
    "test_size = 0.25\n",
    "train_size = 0.75"
   ]
  },
  {
   "cell_type": "code",
   "execution_count": 4,
   "id": "15b0dee4",
   "metadata": {},
   "outputs": [],
   "source": [
    "train_data, test_data = train_test_split(df, test_size = test_size, random_state = 42)"
   ]
  },
  {
   "cell_type": "code",
   "execution_count": 5,
   "id": "321daa38",
   "metadata": {},
   "outputs": [],
   "source": [
    "train_data.to_csv('train.csv', index= False)\n",
    "test_data.to_csv('test.csv', index= False)"
   ]
  },
  {
   "cell_type": "code",
   "execution_count": null,
   "id": "340c9178",
   "metadata": {},
   "outputs": [],
   "source": []
  }
 ],
 "metadata": {
  "kernelspec": {
   "display_name": "Python 3 (ipykernel)",
   "language": "python",
   "name": "python3"
  },
  "language_info": {
   "codemirror_mode": {
    "name": "ipython",
    "version": 3
   },
   "file_extension": ".py",
   "mimetype": "text/x-python",
   "name": "python",
   "nbconvert_exporter": "python",
   "pygments_lexer": "ipython3",
   "version": "3.10.9"
  }
 },
 "nbformat": 4,
 "nbformat_minor": 5
}
