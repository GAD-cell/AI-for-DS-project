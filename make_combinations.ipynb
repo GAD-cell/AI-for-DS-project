{
 "cells": [
  {
   "cell_type": "code",
   "execution_count": 1,
   "id": "30c1468a",
   "metadata": {},
   "outputs": [],
   "source": [
    "import csv\n",
    "import os\n",
    "import itertools\n",
    "import pandas as pd\n",
    "\n",
    "forgery_type=['Opposite Hand','Skilled','Simple']\n",
    "\n",
    "genuine=os.listdir('./UTSig/Genuine')\n",
    "\n",
    "final_combination=[]\n",
    "label=[]\n",
    "genuine_path='./UTSig/Genuine/'\n",
    "forgery_path='./UTSig/Forgery/'\n",
    "for signature in genuine :\n",
    "    dataset_genuine=os.listdir(genuine_path+str(signature))\n",
    "    genuine_list=[os.path.join(genuine_path+signature+'/', file) for file in dataset_genuine]\n",
    "    \n",
    "    #genuine with forgery\n",
    "    #for forgery in forgery_type:\n",
    "    forgery='Opposite Hand'\n",
    "    dataset_forgery=os.listdir(forgery_path+forgery+'/'+signature)\n",
    "    forgery_list=[os.path.join(forgery_path+forgery+'/'+signature+'/', file) for file in dataset_forgery]\n",
    "    combinations=list(itertools.product(genuine_list, forgery_list))\n",
    "    final_combination=final_combination+combinations\n",
    "    temp_label=[1 for i in range(len(combinations))]\n",
    "    label=label+temp_label\n",
    "    \n",
    "    #genuine with genuine\n",
    "    combinations=list(itertools.product(genuine_list, genuine_list))\n",
    "    final_combination=final_combination+combinations\n",
    "    temp_label=[0 for i in range(len(combinations))]\n",
    "    label=label+temp_label\n",
    "\n",
    "\n",
    "\n",
    "\n",
    "df = pd.DataFrame(final_combination, columns=[\"Image1\", \"Image2\"])\n",
    "df['label']=label\n",
    "\n",
    "df.to_csv(\"combinations.csv\", index=False)"
   ]
  },
  {
   "cell_type": "code",
   "execution_count": null,
   "id": "2207fa30",
   "metadata": {},
   "outputs": [],
   "source": []
  }
 ],
 "metadata": {
  "kernelspec": {
   "display_name": "Python 3 (ipykernel)",
   "language": "python",
   "name": "python3"
  },
  "language_info": {
   "codemirror_mode": {
    "name": "ipython",
    "version": 3
   },
   "file_extension": ".py",
   "mimetype": "text/x-python",
   "name": "python",
   "nbconvert_exporter": "python",
   "pygments_lexer": "ipython3",
   "version": "3.10.10"
  }
 },
 "nbformat": 4,
 "nbformat_minor": 5
}
