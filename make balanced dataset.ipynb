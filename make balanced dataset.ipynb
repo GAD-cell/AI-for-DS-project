{
 "cells": [
  {
   "cell_type": "code",
   "execution_count": 1,
   "id": "6878d094",
   "metadata": {},
   "outputs": [],
   "source": [
    "import os\n",
    "import shutil\n",
    "import random"
   ]
  },
  {
   "cell_type": "code",
   "execution_count": 4,
   "id": "865cf896",
   "metadata": {},
   "outputs": [],
   "source": [
    "def create_balanced_dataset(src_root, dst_root):\n",
    "    if not os.path.exists(dst_root):\n",
    "        os.makedirs(dst_root)\n",
    "\n",
    "    for root, dirs, files in os.walk(src_root):\n",
    "        relative_path = os.path.relpath(root, src_root)\n",
    "        dst_dir = os.path.join(dst_root, relative_path)\n",
    "\n",
    "        if not os.path.exists(dst_dir):\n",
    "            os.makedirs(dst_dir)\n",
    "\n",
    "        # Copy all files if it's not a \"Simple\" directory\n",
    "        if 'Simple' not in root:\n",
    "            for file in files:\n",
    "                src_file = os.path.join(root, file)\n",
    "                dst_file = os.path.join(dst_dir, file)\n",
    "                shutil.copy2(src_file, dst_file)\n",
    "        else:\n",
    "            # For \"Simple\" directories, only copy a random selection of up to 18 files\n",
    "            num_files_to_copy = min(len(files), 18)\n",
    "            selected_files = random.sample(files, num_files_to_copy)\n",
    "            for file in selected_files:\n",
    "                src_file = os.path.join(root, file)\n",
    "                dst_file = os.path.join(dst_dir, file)\n",
    "                shutil.copy2(src_file, dst_file)"
   ]
  },
  {
   "cell_type": "code",
   "execution_count": 5,
   "id": "26a01710",
   "metadata": {},
   "outputs": [
    {
     "name": "stdout",
     "output_type": "stream",
     "text": [
      "Balanced dataset created at UTSig_balanced\n"
     ]
    }
   ],
   "source": [
    "def main():\n",
    "    src_root = 'UTSig'\n",
    "    dst_root = 'UTSig_balanced'\n",
    "    create_balanced_dataset(src_root, dst_root)\n",
    "    print(f\"Balanced dataset created at {dst_root}\")\n",
    "\n",
    "if __name__ == \"__main__\":\n",
    "    main()"
   ]
  },
  {
   "cell_type": "code",
   "execution_count": null,
   "id": "e0cd1cb2",
   "metadata": {},
   "outputs": [],
   "source": []
  }
 ],
 "metadata": {
  "kernelspec": {
   "display_name": "Python 3 (ipykernel)",
   "language": "python",
   "name": "python3"
  },
  "language_info": {
   "codemirror_mode": {
    "name": "ipython",
    "version": 3
   },
   "file_extension": ".py",
   "mimetype": "text/x-python",
   "name": "python",
   "nbconvert_exporter": "python",
   "pygments_lexer": "ipython3",
   "version": "3.10.9"
  }
 },
 "nbformat": 4,
 "nbformat_minor": 5
}
