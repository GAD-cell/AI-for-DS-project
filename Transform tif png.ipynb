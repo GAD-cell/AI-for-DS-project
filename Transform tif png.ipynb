{
 "cells": [
  {
   "cell_type": "code",
   "execution_count": 12,
   "id": "24dae15c",
   "metadata": {},
   "outputs": [],
   "source": [
    "import os"
   ]
  },
  {
   "cell_type": "code",
   "execution_count": 13,
   "id": "89056afe",
   "metadata": {},
   "outputs": [],
   "source": [
    "# UTSig directory\n",
    "source_dir = 'UTSig'\n",
    "\n",
    "# transformation from TIF into PNG\n",
    "def convert_tif_to_png(root_dir):\n",
    "    for root, dirs, files in os.walk(root_dir):\n",
    "        for file in files:\n",
    "            if file.endswith('.tif') or file.endswith('.tiff'):\n",
    "                path = os.path.join(root, file)\n",
    "                new_path = os.path.join(root, file.replace('.tif', '.png').replace('.tiff', '.png'))\n",
    "                try:\n",
    "                    img = Image.open(path)\n",
    "                    img.save(new_path, 'PNG')\n",
    "                    os.remove(path)\n",
    "                except Exception as e:\n",
    "                    print(f'Error converting {path}: {e}')\n",
    "\n",
    "convert_tif_to_png(source_dir)"
   ]
  }
 ],
 "metadata": {
  "kernelspec": {
   "display_name": "Python 3 (ipykernel)",
   "language": "python",
   "name": "python3"
  },
  "language_info": {
   "codemirror_mode": {
    "name": "ipython",
    "version": 3
   },
   "file_extension": ".py",
   "mimetype": "text/x-python",
   "name": "python",
   "nbconvert_exporter": "python",
   "pygments_lexer": "ipython3",
   "version": "3.10.9"
  }
 },
 "nbformat": 4,
 "nbformat_minor": 5
}
