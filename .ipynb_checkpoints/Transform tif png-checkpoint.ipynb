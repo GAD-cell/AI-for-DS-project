{
 "cells": [
  {
   "cell_type": "code",
   "execution_count": 1,
   "id": "167ce359",
   "metadata": {},
   "outputs": [
    {
     "name": "stdout",
     "output_type": "stream",
     "text": [
      "Requirement already satisfied: pillow in c:\\users\\anton.orlovskiy\\appdata\\local\\anaconda3\\lib\\site-packages (9.4.0)\n",
      "Requirement already satisfied: pandas in c:\\users\\anton.orlovskiy\\appdata\\local\\anaconda3\\lib\\site-packages (1.5.3)\n",
      "Requirement already satisfied: numpy>=1.21.0 in c:\\users\\anton.orlovskiy\\appdata\\local\\anaconda3\\lib\\site-packages (from pandas) (1.23.5)\n",
      "Requirement already satisfied: python-dateutil>=2.8.1 in c:\\users\\anton.orlovskiy\\appdata\\local\\anaconda3\\lib\\site-packages (from pandas) (2.8.2)\n",
      "Requirement already satisfied: pytz>=2020.1 in c:\\users\\anton.orlovskiy\\appdata\\local\\anaconda3\\lib\\site-packages (from pandas) (2022.7)\n",
      "Requirement already satisfied: six>=1.5 in c:\\users\\anton.orlovskiy\\appdata\\local\\anaconda3\\lib\\site-packages (from python-dateutil>=2.8.1->pandas) (1.16.0)\n"
     ]
    }
   ],
   "source": [
    "!pip install pillow pandas"
   ]
  },
  {
   "cell_type": "code",
   "execution_count": null,
   "id": "c1c0001d",
   "metadata": {},
   "outputs": [],
   "source": [
    "import os\n",
    "import csv\n",
    "import random\n",
    "from PIL import Image"
   ]
  },
  {
   "cell_type": "code",
   "execution_count": 22,
   "id": "3ed91d0a",
   "metadata": {},
   "outputs": [],
   "source": [
    "# Путь к исходной директории UTSig\n",
    "source_dir = 'UTSig'\n",
    "\n",
    "# Пути к директориям train и test\n",
    "train_dir = 'train'\n",
    "test_dir = 'test'\n",
    "\n",
    "# Создание директорий train и test, если они еще не существуют\n",
    "os.makedirs(train_dir, exist_ok=True)\n",
    "os.makedirs(test_dir, exist_ok=True)\n",
    "\n",
    "# Списки для хранения путей к изображениям для обучения и тестирования\n",
    "train_paths = []\n",
    "test_paths = []\n",
    "\n",
    "# Обход всех директорий и поддиректорий в исходной директории UTSig\n",
    "for root, dirs, files in os.walk(source_dir):\n",
    "    # Добавление путей к изображениям для обучения и тестирования\n",
    "    for file in files:\n",
    "        if file.endswith('.png'):\n",
    "            path = os.path.join(root, file)\n",
    "            author = os.path.basename(root)\n",
    "            if random.random() < 0.8:\n",
    "                train_paths.append((path, author, 'Genuine' in root))\n",
    "            else:\n",
    "                test_paths.append((path, author, 'Genuine' in root))\n",
    "\n",
    "# Копирование изображений в папки train и test\n",
    "for paths in (train_paths, test_paths):\n",
    "    for path, author, is_genuine in paths:\n",
    "        new_dir = os.path.join(train_dir if is_genuine else test_dir, author)\n",
    "        os.makedirs(new_dir, exist_ok=True)\n",
    "        new_path = os.path.join(new_dir, os.path.basename(path))\n",
    "        os.rename(path, new_path)\n",
    "\n",
    "# Создание CSV-файлов для обучения и тестирования\n",
    "def create_csv(paths, output_file):\n",
    "    with open(output_file, 'w', newline='') as csvfile:\n",
    "        writer = csv.writer(csvfile)\n",
    "        writer.writerow(['image_1', 'image_2', 'label'])\n",
    "        for i in range(len(paths)):\n",
    "            for j in range(i+1, len(paths)):\n",
    "                if paths[i][1] == paths[j][1]:\n",
    "                    label = 0 if paths[i][2] and paths[j][2] else 1\n",
    "                    writer.writerow([paths[i][0].split('/')[-1], paths[j][0].split('/')[-1], label])\n",
    "\n",
    "create_csv(train_paths, os.path.join(train_dir, 'train.csv'))\n",
    "create_csv(test_paths, os.path.join(test_dir, 'test.csv'))"
   ]
  },
  {
   "cell_type": "code",
   "execution_count": null,
   "id": "532e9db7",
   "metadata": {},
   "outputs": [],
   "source": []
  }
 ],
 "metadata": {
  "kernelspec": {
   "display_name": "Python 3 (ipykernel)",
   "language": "python",
   "name": "python3"
  },
  "language_info": {
   "codemirror_mode": {
    "name": "ipython",
    "version": 3
   },
   "file_extension": ".py",
   "mimetype": "text/x-python",
   "name": "python",
   "nbconvert_exporter": "python",
   "pygments_lexer": "ipython3",
   "version": "3.10.9"
  }
 },
 "nbformat": 4,
 "nbformat_minor": 5
}
