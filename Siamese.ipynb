{
 "cells": [
  {
   "cell_type": "markdown",
   "id": "972611e9",
   "metadata": {},
   "source": [
    "### Import the necessary libraries"
   ]
  },
  {
   "cell_type": "code",
   "execution_count": 1,
   "id": "9866ceb8",
   "metadata": {},
   "outputs": [],
   "source": [
    "import numpy as np\n",
    "import pandas as pd\n",
    "import torch\n",
    "import torch.nn as nn\n",
    "import torch.nn.functional as F\n",
    "import torch.utils.data as utils\n",
    "import torchvision.transforms as transforms\n",
    "from torch.utils.data import DataLoader, Dataset\n",
    "import matplotlib.pyplot as plt\n",
    "import torchvision.utils\n",
    "import torchvision\n",
    "from torch.autograd import Variable\n",
    "from PIL import Image\n",
    "import PIL.ImageOps\n",
    "import os"
   ]
  },
  {
   "cell_type": "markdown",
   "id": "17ca7be2",
   "metadata": {},
   "source": [
    "### Some utils for images and plots"
   ]
  },
  {
   "cell_type": "code",
   "execution_count": 2,
   "id": "58c5d821",
   "metadata": {},
   "outputs": [],
   "source": [
    "def imshow(img, text=None, should_save=False):\n",
    "    npimg = img.numpy()\n",
    "    plt.axis(\"off\")\n",
    "    if text:\n",
    "        plt.text(\n",
    "            75,\n",
    "            8,\n",
    "            text,\n",
    "            style=\"italic\",\n",
    "            fontweight=\"bold\",\n",
    "            bbox={\"facecolor\": \"white\", \"alpha\": 0.8, \"pad\": 10},\n",
    "        )\n",
    "    plt.imshow(np.transpose(npimg, (1, 2, 0)))\n",
    "    plt.show()\n",
    "\n",
    "\n",
    "def show_plot(iteration, loss):\n",
    "    plt.plot(iteration, loss)\n",
    "    plt.show()"
   ]
  },
  {
   "cell_type": "markdown",
   "id": "d23eafbe",
   "metadata": {},
   "source": [
    "### Configurations"
   ]
  },
  {
   "cell_type": "code",
   "execution_count": 3,
   "id": "a0137004",
   "metadata": {},
   "outputs": [],
   "source": [
    "#training_dir = \"UTsig\"\n",
    "training_csv = \"train.csv\"\n",
    "testing_csv = \"test.csv\"\n",
    "#testing_dir = \"UTsig\"\n",
    "batch_size = 8\n",
    "epochs = 20"
   ]
  },
  {
   "cell_type": "markdown",
   "id": "d9f29b56",
   "metadata": {},
   "source": [
    "### Contrastive loss function"
   ]
  },
  {
   "cell_type": "code",
   "execution_count": 4,
   "id": "48dac1d3",
   "metadata": {},
   "outputs": [],
   "source": [
    "class ContrastiveLoss(nn.Module):\n",
    "    \"Contrastive loss function\"\n",
    "\n",
    "    def __init__(self, margin=2.0):\n",
    "        super(ContrastiveLoss, self).__init__()\n",
    "        self.margin = margin\n",
    "\n",
    "    def forward(self, output1, output2, label):\n",
    "        euclidean_distance = F.pairwise_distance(output1, output2)\n",
    "        loss_contrastive = torch.mean(\n",
    "            (1 - label) * torch.pow(euclidean_distance, 2)\n",
    "            + (label)\n",
    "            * torch.pow(torch.clamp(self.margin - euclidean_distance, min=0.0), 2)\n",
    "        )\n",
    "\n",
    "        return loss_contrastive"
   ]
  },
  {
   "cell_type": "markdown",
   "id": "21b38365",
   "metadata": {},
   "source": [
    "### Preprocessing and loading the dataset"
   ]
  },
  {
   "cell_type": "code",
   "execution_count": 5,
   "id": "e2dbcdf4",
   "metadata": {},
   "outputs": [],
   "source": [
    "class SiameseDataset:\n",
    "    def __init__(self, training_csv=None, \n",
    "                 #training_dir=None, \n",
    "                 transform=None,\n",
    "                 trunc=None):\n",
    "        # used to prepare the labels and images path\n",
    "        self.train_df = pd.read_csv(training_csv)\n",
    "        self.train_df=self.train_df[:trunc]\n",
    "        #self.train_df.columns = [\"image1\", \"image2\", \"label\"]\n",
    "        #self.train_dir = training_dir\n",
    "        self.transform = transform\n",
    "\n",
    "    def __getitem__(self, index):\n",
    "\n",
    "        # getting the image path\n",
    "        #image1_path = os.path.join(self.train_dir, self.train_df.iat[index, 0])\n",
    "        #image2_path = os.path.join(self.train_dir, self.train_df.iat[index, 1])\n",
    "        image1_path = self.train_df.iat[index, 0]\n",
    "        image2_path = self.train_df.iat[index, 1]\n",
    "\n",
    "        # Loading the image\n",
    "        img0 = Image.open(image1_path)\n",
    "        img1 = Image.open(image2_path)\n",
    "        img0 = img0.convert(\"L\")\n",
    "        img1 = img1.convert(\"L\")\n",
    "\n",
    "        # Apply image transformations\n",
    "        if self.transform is not None:\n",
    "            img0 = self.transform(img0)\n",
    "            img1 = self.transform(img1)\n",
    "\n",
    "        return (\n",
    "            img0,\n",
    "            img1,\n",
    "            torch.from_numpy(\n",
    "                np.array([int(self.train_df.iat[index, 2])], dtype=np.float32)\n",
    "            ),\n",
    "        )\n",
    "\n",
    "    def __len__(self):\n",
    "        return len(self.train_df)"
   ]
  },
  {
   "cell_type": "markdown",
   "id": "f8be234b",
   "metadata": {},
   "source": [
    "### Load the the dataset from raw image folders"
   ]
  },
  {
   "cell_type": "code",
   "execution_count": 6,
   "id": "90d69489",
   "metadata": {},
   "outputs": [],
   "source": [
    "siamese_dataset = SiameseDataset(\n",
    "    training_csv,\n",
    "    #training_dir,\n",
    "    transform=transforms.Compose(\n",
    "        [transforms.Resize((105, 105)), transforms.ToTensor()]\n",
    "    ),\n",
    "    trunc=50000\n",
    ")\n",
    "\n",
    "eval_dataset = SiameseDataset(\n",
    "    testing_csv,\n",
    "    #training_dir,\n",
    "    transform=transforms.Compose(\n",
    "        [transforms.Resize((105, 105)), transforms.ToTensor()]\n",
    "    ),\n",
    "    trunc=10000\n",
    ")\n"
   ]
  },
  {
   "cell_type": "markdown",
   "id": "c3409890",
   "metadata": {},
   "source": [
    "### Viewing the sample of images and to check whether its loading properly"
   ]
  },
  {
   "cell_type": "code",
   "execution_count": 7,
   "id": "80c69c1e",
   "metadata": {},
   "outputs": [
    {
     "data": {
      "image/png": "[encoded data removed]",
      "text/plain": [
       "<Figure size 640x480 with 1 Axes>"
      ]
     },
     "metadata": {},
     "output_type": "display_data"
    },
    {
     "name": "stdout",
     "output_type": "stream",
     "text": [
      "[[1.]\n",
      " [1.]\n",
      " [1.]\n",
      " [0.]\n",
      " [0.]\n",
      " [1.]\n",
      " [1.]\n",
      " [1.]]\n"
     ]
    }
   ],
   "source": [
    "vis_dataloader = DataLoader(siamese_dataset, shuffle=True, batch_size=8)\n",
    "dataiter = iter(vis_dataloader)\n",
    "\n",
    "\n",
    "example_batch = next(dataiter)\n",
    "concatenated = torch.cat((example_batch[0], example_batch[1]), 0)\n",
    "imshow(torchvision.utils.make_grid(concatenated))\n",
    "print(example_batch[2].numpy())"
   ]
  },
  {
   "cell_type": "markdown",
   "id": "0f0cff11",
   "metadata": {},
   "source": [
    "### Create a siamese network"
   ]
  },
  {
   "cell_type": "code",
   "execution_count": 8,
   "id": "771df697",
   "metadata": {},
   "outputs": [],
   "source": [
    "class SiameseNetwork(nn.Module):\n",
    "    def __init__(self):\n",
    "        super(SiameseNetwork, self).__init__()\n",
    "        \n",
    "        # Setting up the Sequential of CNN Layers\n",
    "        self.cnn1 = nn.Sequential(\n",
    "            \n",
    "            nn.Conv2d(1, 96, kernel_size=11,stride=1),\n",
    "            nn.BatchNorm2d(96),\n",
    "            #nn.LocalResponseNorm(5,alpha=0.0001,beta=0.75,k=2),\n",
    "            nn.ReLU(inplace=True),\n",
    "            nn.MaxPool2d(3, stride=2),\n",
    "            \n",
    "            nn.Conv2d(96, 256, kernel_size=5,stride=1,padding=2),\n",
    "            nn.BatchNorm2d(256),\n",
    "            nn.ReLU(inplace=True),\n",
    "            #nn.LocalResponseNorm(5,alpha=0.0001,beta=0.75,k=2),\n",
    "            nn.MaxPool2d(3, stride=2),\n",
    "            nn.Dropout2d(p=0.3),\n",
    "\n",
    "            nn.Conv2d(256,384 , kernel_size=3,stride=1,padding=1),\n",
    "            nn.BatchNorm2d(384),\n",
    "            nn.ReLU(inplace=True),\n",
    "            \n",
    "            nn.Conv2d(384,256 , kernel_size=3,stride=1,padding=1),\n",
    "            nn.BatchNorm2d(256),\n",
    "            nn.ReLU(inplace=True),\n",
    "            nn.MaxPool2d(3, stride=2),\n",
    "            nn.Dropout2d(p=0.3),\n",
    "\n",
    "        )\n",
    "        \n",
    "        # Defining the fully connected layers\n",
    "        self.fc1 = nn.Sequential(\n",
    "            nn.Linear(30976, 1024),\n",
    "            nn.ReLU(inplace=True),\n",
    "            nn.Dropout2d(p=0.5),\n",
    "            \n",
    "            nn.Linear(1024, 128),\n",
    "            nn.ReLU(inplace=True),\n",
    "            \n",
    "            nn.Linear(128,2))\n",
    "        \n",
    "  \n",
    "  \n",
    "    def forward_once(self, x):\n",
    "        # Forward pass \n",
    "        output = self.cnn1(x)\n",
    "        output = output.view(output.size()[0], -1)\n",
    "        output = self.fc1(output)\n",
    "        return output\n",
    "\n",
    "    def forward(self, input1, input2):\n",
    "        # forward pass of input 1\n",
    "        output1 = self.forward_once(input1)\n",
    "        # forward pass of input 2\n",
    "        output2 = self.forward_once(input2)\n",
    "        return output1, output2"
   ]
  },
  {
   "cell_type": "markdown",
   "id": "b7a542ef",
   "metadata": {},
   "source": [
    "### Load the dataset as pytorch tensors using dataloader"
   ]
  },
  {
   "cell_type": "code",
   "execution_count": 9,
   "id": "960b605b",
   "metadata": {},
   "outputs": [],
   "source": [
    "train_dataloader = DataLoader(siamese_dataset,\n",
    "                        shuffle=True,\n",
    "                        num_workers=0,\n",
    "                        batch_size=batch_size) \n",
    "eval_dataloader = DataLoader(eval_dataset,\n",
    "                        shuffle=True,\n",
    "                        num_workers=0,\n",
    "                        batch_size=batch_size) "
   ]
  },
  {
   "cell_type": "markdown",
   "id": "5c9ab5a7",
   "metadata": {},
   "source": [
    "### Declare Siamese Network"
   ]
  },
  {
   "cell_type": "code",
   "execution_count": 10,
   "id": "df202248",
   "metadata": {},
   "outputs": [],
   "source": [
    "net = SiameseNetwork().cuda()"
   ]
  },
  {
   "cell_type": "markdown",
   "id": "c8de6600",
   "metadata": {},
   "source": [
    "### Decalre Loss Function"
   ]
  },
  {
   "cell_type": "code",
   "execution_count": 11,
   "id": "23cb198f",
   "metadata": {},
   "outputs": [],
   "source": [
    "criterion = ContrastiveLoss()"
   ]
  },
  {
   "cell_type": "markdown",
   "id": "a0c42b3f",
   "metadata": {},
   "source": [
    "### Declare Optimizer"
   ]
  },
  {
   "cell_type": "code",
   "execution_count": 12,
   "id": "856cb01a",
   "metadata": {},
   "outputs": [],
   "source": [
    "optimizer = torch.optim.Adam(net.parameters(), lr=1e-3, weight_decay=0.0005)"
   ]
  },
  {
   "cell_type": "markdown",
   "id": "7d014231",
   "metadata": {},
   "source": [
    "### Train the model"
   ]
  },
  {
   "cell_type": "code",
   "execution_count": 14,
   "id": "2039dc4a",
   "metadata": {},
   "outputs": [
    {
     "name": "stdout",
     "output_type": "stream",
     "text": [
      "-----epoch 1-----\n"
     ]
    },
    {
     "name": "stderr",
     "output_type": "stream",
     "text": [
      "                                                                \r"
     ]
    },
    {
     "name": "stdout",
     "output_type": "stream",
     "text": [
      "Training loss0.00021389788170471193\n",
      "--------------------\n",
      "Eval loss0.0010683126203155516\n",
      "--------------------\n",
      "Best Eval loss0.0010683126203155516\n",
      "Model Saved Successfully\n",
      "-----epoch 2-----\n"
     ]
    },
    {
     "name": "stderr",
     "output_type": "stream",
     "text": [
      "                                                                \r"
     ]
    },
    {
     "name": "stdout",
     "output_type": "stream",
     "text": [
      "Training loss0.0002152240801864624\n",
      "--------------------\n",
      "Eval loss0.0010161108907318114\n",
      "--------------------\n",
      "Best Eval loss0.0010161108907318114\n",
      "Model Saved Successfully\n",
      "-----epoch 3-----\n"
     ]
    },
    {
     "name": "stderr",
     "output_type": "stream",
     "text": [
      "                                                                \r"
     ]
    },
    {
     "name": "stdout",
     "output_type": "stream",
     "text": [
      "Training loss0.00020496732190322878\n",
      "--------------------\n",
      "Eval loss0.001005433027648926\n",
      "--------------------\n",
      "Best Eval loss0.001005433027648926\n",
      "Model Saved Successfully\n",
      "-----epoch 4-----\n"
     ]
    },
    {
     "name": "stderr",
     "output_type": "stream",
     "text": [
      "                                                                \r"
     ]
    },
    {
     "name": "stdout",
     "output_type": "stream",
     "text": [
      "Training loss0.00020178548749809265\n",
      "--------------------\n",
      "Eval loss0.0009986333978271482\n",
      "--------------------\n",
      "Best Eval loss0.0009986333978271482\n",
      "Model Saved Successfully\n",
      "-----epoch 5-----\n"
     ]
    },
    {
     "name": "stderr",
     "output_type": "stream",
     "text": [
      "                                                                \r"
     ]
    },
    {
     "name": "stdout",
     "output_type": "stream",
     "text": [
      "Training loss0.00020139527453994752\n",
      "--------------------\n",
      "Eval loss0.0010336456588363647\n",
      "--------------------\n",
      "Best Eval loss0.0010336456588363647\n",
      "Model Saved Successfully\n",
      "-----epoch 6-----\n"
     ]
    },
    {
     "name": "stderr",
     "output_type": "stream",
     "text": [
      "                                                                \r"
     ]
    },
    {
     "name": "stdout",
     "output_type": "stream",
     "text": [
      "Training loss0.000201536819102478\n",
      "--------------------\n",
      "Eval loss0.000992865364341736\n",
      "--------------------\n",
      "Best Eval loss0.000992865364341736\n",
      "Model Saved Successfully\n",
      "-----epoch 7-----\n"
     ]
    },
    {
     "name": "stderr",
     "output_type": "stream",
     "text": [
      "                                                                \r"
     ]
    },
    {
     "name": "stdout",
     "output_type": "stream",
     "text": [
      "Training loss0.0001999894783302307\n",
      "--------------------\n",
      "Eval loss0.0009849235910987853\n",
      "--------------------\n",
      "Best Eval loss0.0009849235910987853\n",
      "Model Saved Successfully\n",
      "-----epoch 8-----\n"
     ]
    },
    {
     "name": "stderr",
     "output_type": "stream",
     "text": [
      "                                                                \r"
     ]
    },
    {
     "name": "stdout",
     "output_type": "stream",
     "text": [
      "Training loss0.00019927390795822144\n",
      "--------------------\n",
      "Eval loss0.0010395101551818847\n",
      "--------------------\n",
      "Best Eval loss0.0010395101551818847\n",
      "Model Saved Successfully\n",
      "-----epoch 9-----\n"
     ]
    },
    {
     "name": "stderr",
     "output_type": "stream",
     "text": [
      "                                                                \r"
     ]
    },
    {
     "name": "stdout",
     "output_type": "stream",
     "text": [
      "Training loss0.00019918241088638303\n",
      "--------------------\n",
      "Eval loss0.000988230079345703\n",
      "--------------------\n",
      "Best Eval loss0.000988230079345703\n",
      "Model Saved Successfully\n",
      "-----epoch 10-----\n"
     ]
    },
    {
     "name": "stderr",
     "output_type": "stream",
     "text": [
      "                                                                \r"
     ]
    },
    {
     "name": "stdout",
     "output_type": "stream",
     "text": [
      "Training loss0.00020065717272872924\n",
      "--------------------\n",
      "Eval loss0.001030838829498291\n",
      "--------------------\n",
      "Best Eval loss0.001030838829498291\n",
      "Model Saved Successfully\n",
      "-----epoch 11-----\n"
     ]
    },
    {
     "name": "stderr",
     "output_type": "stream",
     "text": [
      "                                                                \r"
     ]
    },
    {
     "name": "stdout",
     "output_type": "stream",
     "text": [
      "Training loss0.00019986969568710328\n",
      "--------------------\n",
      "Eval loss0.0009812424489593506\n",
      "--------------------\n",
      "Best Eval loss0.0009812424489593506\n",
      "Model Saved Successfully\n",
      "-----epoch 12-----\n"
     ]
    },
    {
     "name": "stderr",
     "output_type": "stream",
     "text": [
      "                                                                \r"
     ]
    },
    {
     "name": "stdout",
     "output_type": "stream",
     "text": [
      "Training loss0.00019872146188812257\n",
      "--------------------\n",
      "Eval loss0.0009849784006118775\n",
      "--------------------\n",
      "Best Eval loss0.0009849784006118775\n",
      "Model Saved Successfully\n",
      "-----epoch 13-----\n"
     ]
    },
    {
     "name": "stderr",
     "output_type": "stream",
     "text": [
      "                                                                \r"
     ]
    },
    {
     "name": "stdout",
     "output_type": "stream",
     "text": [
      "Training loss0.00019800403400650022\n",
      "--------------------\n",
      "Eval loss0.0009823833957099916\n",
      "--------------------\n",
      "Best Eval loss0.0009823833957099916\n",
      "Model Saved Successfully\n",
      "-----epoch 14-----\n"
     ]
    },
    {
     "name": "stderr",
     "output_type": "stream",
     "text": [
      "                                                                \r"
     ]
    },
    {
     "name": "stdout",
     "output_type": "stream",
     "text": [
      "Training loss0.00019732518630523682\n",
      "--------------------\n",
      "Eval loss0.0010298519039726257\n",
      "--------------------\n",
      "Best Eval loss0.0010298519039726257\n",
      "Model Saved Successfully\n",
      "-----epoch 15-----\n"
     ]
    },
    {
     "name": "stderr",
     "output_type": "stream",
     "text": [
      "                                                                \r"
     ]
    },
    {
     "name": "stdout",
     "output_type": "stream",
     "text": [
      "Training loss0.00019728558318786622\n",
      "--------------------\n",
      "Eval loss0.0010047099941253663\n",
      "--------------------\n",
      "Best Eval loss0.0010047099941253663\n",
      "Model Saved Successfully\n",
      "-----epoch 16-----\n"
     ]
    },
    {
     "name": "stderr",
     "output_type": "stream",
     "text": [
      "                                                                \r"
     ]
    },
    {
     "name": "stdout",
     "output_type": "stream",
     "text": [
      "Training loss0.00019809013754119875\n",
      "--------------------\n",
      "Eval loss0.0010007005805969238\n",
      "--------------------\n",
      "Best Eval loss0.0010007005805969238\n",
      "Model Saved Successfully\n",
      "-----epoch 17-----\n"
     ]
    },
    {
     "name": "stderr",
     "output_type": "stream",
     "text": [
      "                                                                \r"
     ]
    },
    {
     "name": "stdout",
     "output_type": "stream",
     "text": [
      "Training loss0.00019726922306213378\n",
      "--------------------\n",
      "Eval loss0.0009762916636657715\n",
      "--------------------\n",
      "Best Eval loss0.0009762916636657715\n",
      "Model Saved Successfully\n",
      "-----epoch 18-----\n"
     ]
    },
    {
     "name": "stderr",
     "output_type": "stream",
     "text": [
      "                                                                \r"
     ]
    },
    {
     "name": "stdout",
     "output_type": "stream",
     "text": [
      "Training loss0.0001965076822746277\n",
      "--------------------\n",
      "Eval loss0.0009823840660858154\n",
      "--------------------\n",
      "Best Eval loss0.0009823840660858154\n",
      "Model Saved Successfully\n",
      "-----epoch 19-----\n"
     ]
    },
    {
     "name": "stderr",
     "output_type": "stream",
     "text": [
      "                                                                \r"
     ]
    },
    {
     "name": "stdout",
     "output_type": "stream",
     "text": [
      "Training loss0.00019660203216018677\n",
      "--------------------\n",
      "Eval loss0.0009712654033088684\n",
      "--------------------\n",
      "Best Eval loss0.0009712654033088684\n",
      "Model Saved Successfully\n"
     ]
    }
   ],
   "source": [
    "from tqdm import tqdm\n",
    "\n",
    "def train(train_dataloader):\n",
    "    loss = [] \n",
    "    iteration_number = 0\n",
    "    \n",
    "    # Utilisation de tqdm pour créer une barre de progression\n",
    "    for i, data in enumerate(tqdm(train_dataloader, desc=\"Training\", unit=\"batch\", leave=False)):\n",
    "        img0, img1, label = data\n",
    "        img0, img1, label = img0.cuda(), img1.cuda(), label.cuda()\n",
    "        optimizer.zero_grad()\n",
    "        output1, output2 = net(img0, img1)\n",
    "        loss_contrastive = criterion(output1, output2, label)\n",
    "        loss_contrastive.backward()\n",
    "        optimizer.step()\n",
    "        loss.append(loss_contrastive.item())\n",
    "    \n",
    "    loss = np.array(loss)\n",
    "    return loss.mean() / len(train_dataloader)\n",
    "\n",
    "\n",
    "def eval(eval_dataloader):\n",
    "    loss=[] \n",
    "    counter=[]\n",
    "    iteration_number = 0\n",
    "    for i, data in enumerate(eval_dataloader,0):\n",
    "      img0, img1 , label = data\n",
    "      img0, img1 , label = img0.cuda(), img1.cuda() , label.cuda()\n",
    "      output1,output2 = net(img0,img1)\n",
    "      loss_contrastive = criterion(output1,output2,label)\n",
    "      loss.append(loss_contrastive.item())\n",
    "    loss = np.array(loss)\n",
    "    return loss.mean()/len(eval_dataloader)\n",
    "\n",
    "\n",
    "for epoch in range(1, epochs):\n",
    "  print(f\"-----epoch {epoch}-----\")\n",
    "  best_eval_loss = 9999\n",
    "  train_loss = train(train_dataloader)\n",
    "  eval_loss = eval(eval_dataloader)\n",
    "\n",
    "  print(f\"Training loss{train_loss}\")\n",
    "  print(\"-\"*20)\n",
    "  print(f\"Eval loss{eval_loss}\")\n",
    "\n",
    "  if eval_loss<best_eval_loss:\n",
    "    best_eval_loss = eval_loss\n",
    "    print(\"-\"*20)\n",
    "    print(f\"Best Eval loss{best_eval_loss}\")\n",
    "    torch.save(net.state_dict(), \"./content/model.pth\")\n",
    "    print(\"Model Saved Successfully\")"
   ]
  },
  {
   "cell_type": "markdown",
   "id": "bebf720f",
   "metadata": {},
   "source": [
    "### Performance test"
   ]
  },
  {
   "cell_type": "code",
   "execution_count": 15,
   "id": "c9697198",
   "metadata": {},
   "outputs": [
    {
     "name": "stdout",
     "output_type": "stream",
     "text": [
      "Accuracy of the Siamese network on the test set: 38.06%\n"
     ]
    }
   ],
   "source": [
    "model_path = './content/model.pth'\n",
    "net.load_state_dict(torch.load(model_path))\n",
    "net.eval()  # Set the model to evaluation mode\n",
    "\n",
    "correct = 0\n",
    "total = 0\n",
    "threshold=0.01\n",
    "with torch.no_grad():  # Disable gradient calculation for evaluation\n",
    "    for i, data in enumerate(eval_dataloader,0):\n",
    "        img0, img1 , label = data\n",
    "        img0, img1 , label = img0.cuda(), img1.cuda() , label.cuda()\n",
    "        output1,output2 = net(img0,img1)\n",
    "        euclidean_distance = F.pairwise_distance(output1, output2)\n",
    "        predicted = (euclidean_distance > threshold).float()\n",
    "        predicted=predicted.reshape(-1,1)\n",
    "        total += label.size(0)\n",
    "        correct += torch.sum(predicted == label)\n",
    "\n",
    "accuracy = 100 * correct / total\n",
    "print(f'Accuracy of the Siamese network on the test set: {accuracy:.2f}%')"
   ]
  },
  {
   "cell_type": "code",
   "execution_count": 16,
   "id": "77f8d2a7",
   "metadata": {},
   "outputs": [
    {
     "name": "stderr",
     "output_type": "stream",
     "text": [
      "c:\\Users\\GAD\\AppData\\Local\\Programs\\Python\\Python310\\lib\\site-packages\\torch\\nn\\functional.py:1374: UserWarning: dropout2d: Received a 2-D input to dropout2d, which is deprecated and will result in an error in a future release. To retain the behavior and silence this warning, please use dropout instead. Note that dropout2d exists to provide channel-wise dropout on inputs with 2 spatial dimensions, a channel dimension, and an optional batch dimension (i.e. 3D or 4D inputs).\n",
      "  warnings.warn(warn_msg)\n"
     ]
    }
   ],
   "source": [
    "from sklearn.metrics import roc_curve, auc\n",
    "import matplotlib.pyplot as plt\n",
    "\n",
    "# Initialize lists to store true labels and predicted scores\n",
    "true_labels = []\n",
    "predicted_scores = []\n",
    "\n",
    "# Evaluate the model on the test set\n",
    "with torch.no_grad():  \n",
    "    for i, data in enumerate(eval_dataloader, 0):\n",
    "        img0, img1, label = data\n",
    "        img0, img1, label = img0.cuda(), img1.cuda(), label.cuda()\n",
    "        \n",
    "        # Forward pass\n",
    "        output1, output2 = net(img0, img1)\n",
    "        euclidean_distance = F.pairwise_distance(output1, output2)\n",
    "        predicted_scores.extend(euclidean_distance.cpu().numpy())\n",
    "        true_labels.extend(label.cpu().numpy())\n",
    "\n",
    "# Convert lists to numpy arrays\n",
    "true_labels = np.array(true_labels)\n",
    "predicted_scores = np.array(predicted_scores)\n",
    "\n",
    "# Compute ROC curve and ROC area\n",
    "fpr, tpr, thresholds = roc_curve(true_labels, predicted_scores)\n",
    "roc_auc = auc(fpr, tpr)\n",
    "\n",
    "# Plot ROC curve\n",
    "plt.figure()\n",
    "plt.plot(fpr, tpr, color='darkorange', lw=2, label=f'ROC curve (area = {roc_auc:.2f})')\n",
    "plt.plot([0, 1], [0, 1], color='navy', lw=2, linestyle='--')\n",
    "plt.xlim([0.0, 1.0])\n",
    "plt.ylim([0.0, 1.05])\n",
    "plt.xlabel('False Positive Rate')\n",
    "plt.ylabel('True Positive Rate')\n",
    "plt.title('Receiver Operating Characteristic (ROC) Curve')\n",
    "plt.legend(loc='lower right')\n",
    "plt.show()\n",
    "\n",
    "# Print AUC score\n",
    "print(f'AUC: {roc_auc:.2f}')"
   ]
  },
  {
   "cell_type": "code",
   "execution_count": null,
   "id": "66514cd5",
   "metadata": {},
   "outputs": [],
   "source": []
  }
 ],
 "metadata": {
  "kernelspec": {
   "display_name": "Python 3 (ipykernel)",
   "language": "python",
   "name": "python3"
  },
  "language_info": {
   "codemirror_mode": {
    "name": "ipython",
    "version": 3
   },
   "file_extension": ".py",
   "mimetype": "text/x-python",
   "name": "python",
   "nbconvert_exporter": "python",
   "pygments_lexer": "ipython3",
   "version": "3.10.10"
  }
 },
 "nbformat": 4,
 "nbformat_minor": 5
}
